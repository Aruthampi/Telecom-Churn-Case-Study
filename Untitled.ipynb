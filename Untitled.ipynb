{
 "cells": [
  {
   "cell_type": "markdown",
   "id": "modern-ethnic",
   "metadata": {},
   "source": [
    "### `onnet_mou_8`"
   ]
  },
  {
   "cell_type": "code",
   "execution_count": null,
   "id": "quick-cyprus",
   "metadata": {},
   "outputs": [],
   "source": [
    "grid = plt.GridSpec(2, 1, wspace=0.4, hspace=0.3)\n",
    "fig = plt.figure(figsize=(15,15))\n",
    "\n",
    "ax1 = plt.subplot(grid[0,0])\n",
    "sns.distplot(df_action['onnet_mou_8'])\n",
    "plt.xticks(rotation = 90)\n",
    "\n",
    "ax2 = plt.subplot(grid[1,0])\n",
    "sns.boxplot(df_action['onnet_mou_8'])\n",
    "plt.xticks(rotation = 90)\n",
    "\n",
    "plt.show()"
   ]
  },
  {
   "cell_type": "code",
   "execution_count": null,
   "id": "occupied-extension",
   "metadata": {},
   "outputs": [],
   "source": [
    "df_action['onnet_mou_8'].skew()"
   ]
  },
  {
   "cell_type": "markdown",
   "id": "alleged-holmes",
   "metadata": {},
   "source": [
    "`onnet_mou_8` is a high skew value. Therefore doing a cuberoot transformation."
   ]
  },
  {
   "cell_type": "code",
   "execution_count": null,
   "id": "associate-adapter",
   "metadata": {},
   "outputs": [],
   "source": [
    "df_action['cbrt_onnet_mou_8'] = np.cbrt(df_action['onnet_mou_8'])"
   ]
  },
  {
   "cell_type": "code",
   "execution_count": null,
   "id": "protecting-window",
   "metadata": {},
   "outputs": [],
   "source": [
    "grid = plt.GridSpec(2, 1, wspace=0.4, hspace=0.3)\n",
    "fig = plt.figure(figsize=(15,15))\n",
    "\n",
    "ax1 = plt.subplot(grid[0,0])\n",
    "sns.distplot(df_action['cbrt_onnet_mou_8'])\n",
    "plt.xticks(rotation = 90)\n",
    "\n",
    "ax2 = plt.subplot(grid[1,0])\n",
    "sns.boxplot(df_action['cbrt_onnet_mou_8'])\n",
    "plt.xticks(rotation = 90)\n",
    "\n",
    "plt.show()"
   ]
  },
  {
   "cell_type": "code",
   "execution_count": null,
   "id": "english-juvenile",
   "metadata": {},
   "outputs": [],
   "source": [
    "df_action['cbrt_onnet_mou_8'].skew()"
   ]
  },
  {
   "cell_type": "code",
   "execution_count": null,
   "id": "aggressive-course",
   "metadata": {},
   "outputs": [],
   "source": [
    "df_action['cbrt_onnet_mou_8'].describe(percentiles=[0,0.25,0.5,0.75,0.9,0.95,0.99,1])"
   ]
  },
  {
   "cell_type": "code",
   "execution_count": null,
   "id": "conceptual-compound",
   "metadata": {},
   "outputs": [],
   "source": [
    "Q1 = df_action['cbrt_onnet_mou_8'].quantile(0.25)\n",
    "Q3 = df_action['cbrt_onnet_mou_8'].quantile(0.75)\n",
    "IQR = Q3 - Q1\n",
    "uf = Q3+1.5*IQR"
   ]
  },
  {
   "cell_type": "code",
   "execution_count": null,
   "id": "unable-effect",
   "metadata": {},
   "outputs": [],
   "source": [
    "# Number of Rows greater than upper fence\n",
    "df_action[df_action['cbrt_onnet_mou_8'] > uf].shape[0]"
   ]
  },
  {
   "cell_type": "code",
   "execution_count": null,
   "id": "geological-arcade",
   "metadata": {},
   "outputs": [],
   "source": [
    "# Percentage of Rows above upper fence for LotFrontage\n",
    "100*df_action[df_action['cbrt_onnet_mou_8'] > uf].shape[0]/df_action.shape[0]"
   ]
  },
  {
   "cell_type": "code",
   "execution_count": null,
   "id": "naughty-reliance",
   "metadata": {},
   "outputs": [],
   "source": [
    "# Number of Rows above 99 percentile for LotFrontage\n",
    "df_action[df_action['cbrt_onnet_mou_8'] > df_action['cbrt_onnet_mou_8'].quantile(0.99)].shape[0]"
   ]
  },
  {
   "cell_type": "code",
   "execution_count": null,
   "id": "floppy-fleet",
   "metadata": {},
   "outputs": [],
   "source": [
    "# Percentage of Rows above 99 percentile for LotFrontage\n",
    "100*df_action[df_action['cbrt_onnet_mou_8'] > df_action['cbrt_onnet_mou_8'].quantile(0.99)].shape[0]/df_action.shape[0]"
   ]
  },
  {
   "cell_type": "markdown",
   "id": "local-soundtrack",
   "metadata": {},
   "source": [
    "Soft Capping at 99th percentile"
   ]
  },
  {
   "cell_type": "code",
   "execution_count": null,
   "id": "annual-struggle",
   "metadata": {},
   "outputs": [],
   "source": [
    "df_action['cbrt_onnet_mou_8'][df_action['cbrt_onnet_mou_8'] > df_action['cbrt_onnet_mou_8'].quantile(0.99)]=df_action['cbrt_onnet_mou_8'].quantile(0.99)"
   ]
  },
  {
   "cell_type": "code",
   "execution_count": null,
   "id": "purple-english",
   "metadata": {},
   "outputs": [],
   "source": [
    "grid = plt.GridSpec(2, 1, wspace=0.4, hspace=0.3)\n",
    "fig = plt.figure(figsize=(15,15))\n",
    "\n",
    "ax1 = plt.subplot(grid[0,0])\n",
    "sns.distplot(df_action['cbrt_onnet_mou_8'])\n",
    "plt.xticks(rotation = 90)\n",
    "\n",
    "ax2 = plt.subplot(grid[1,0])\n",
    "sns.boxplot(df_action['cbrt_onnet_mou_8'])\n",
    "plt.xticks(rotation = 90)\n",
    "\n",
    "plt.show()"
   ]
  },
  {
   "cell_type": "code",
   "execution_count": null,
   "id": "environmental-economics",
   "metadata": {},
   "outputs": [],
   "source": [
    "df_action.drop('offnet_mou_8',axis=1,inplace=True)"
   ]
  }
 ],
 "metadata": {
  "kernelspec": {
   "display_name": "Python 3",
   "language": "python",
   "name": "python3"
  },
  "language_info": {
   "codemirror_mode": {
    "name": "ipython",
    "version": 3
   },
   "file_extension": ".py",
   "mimetype": "text/x-python",
   "name": "python",
   "nbconvert_exporter": "python",
   "pygments_lexer": "ipython3",
   "version": "3.8.8"
  }
 },
 "nbformat": 4,
 "nbformat_minor": 5
}
